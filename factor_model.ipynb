{
 "cells": [
  {
   "cell_type": "code",
   "execution_count": 1,
   "metadata": {},
   "outputs": [
    {
     "name": "stderr",
     "output_type": "stream",
     "text": [
      "/Users/matthewdixon/anaconda3/lib/python3.6/site-packages/h5py/__init__.py:36: FutureWarning: Conversion of the second argument of issubdtype from `float` to `np.floating` is deprecated. In future, it will be treated as `np.float64 == np.dtype(float).type`.\n",
      "  from ._conv import register_converters as _register_converters\n",
      "Using TensorFlow backend.\n"
     ]
    }
   ],
   "source": [
    "import random\n",
    "import pandas as pd\n",
    "import numpy as np\n",
    "import math\n",
    "from datetime import datetime\n",
    "from keras.models import Sequential\n",
    "from keras.layers import Dense, Dropout\n",
    "from keras.utils import to_categorical\n",
    "from keras.regularizers import l1,l2\n",
    "from keras.callbacks import EarlyStopping\n",
    "from keras.wrappers.scikit_learn import KerasRegressor, KerasClassifier\n",
    "from sklearn.model_selection import KFold, StratifiedKFold, GridSearchCV, cross_val_score, train_test_split\n",
    "from sklearn import model_selection\n",
    "from sklearn.linear_model import LinearRegression\n",
    "from sklearn.feature_selection import f_regression\n",
    "from sklearn import metrics\n",
    "from sklearn import preprocessing\n",
    "import matplotlib.pyplot as plt\n",
    "from sklearn.metrics import mean_squared_error, r2_score, explained_variance_score, mean_absolute_error\n",
    "import statsmodels.api as sm\n",
    "import statsmodels.stats.diagnostic as tds\n",
    "from statsmodels.api import add_constant\n",
    "from scipy import stats"
   ]
  },
  {
   "cell_type": "code",
   "execution_count": 3,
   "metadata": {},
   "outputs": [
    {
     "name": "stdout",
     "output_type": "stream",
     "text": [
      "\n",
      "Number of stocks: 218\n",
      "Number of stocks: 6\n"
     ]
    }
   ],
   "source": [
    "df1 = pd.read_csv('sp200_data_.csv', header = 0 )\n",
    "df1.head()\n",
    "\n",
    "n_stocks = df1.Name.nunique()\n",
    "n_factors = len(df1.columns) - len(['Date', 'Name', 'Px_LAST', 'CUR_MKT_CAP', 'Return']) # List of non-factor columns in data\n",
    "\n",
    "print(\"\\nNumber of stocks:\",n_stocks)\n",
    "print(\"Number of stocks:\",n_factors)\n",
    "\n",
    "# Benchmark and Risk-free Rate data\n",
    "\n",
    "bench = pd.read_csv('sp500_ret.csv', header = 0 )\n",
    "bench.head()\n",
    "rf = pd.read_csv('risk_free_ret.csv', header = 0 )\n",
    "rf.head() \n",
    "\n",
    "# Clean Data\n",
    "\n",
    "df1 = df1.apply(pd.to_numeric, errors='coerce')\n",
    "df1 = df1.fillna( 0.0 )\n",
    "df1 = df1.replace('#VALUE!',0.0)\n",
    "df1 = df1.replace('#DIV/0!',0.0)\n",
    "df1 = df1.replace('#N/A',0.0)\n",
    "df1 = df1.replace('#N/A N/A',0.0)\n",
    "df1 = df1.replace('#N/A N/A ',0.0) \n",
    "df1 = df1.replace(' ',0.0)                   \n",
    "\n",
    "# Split data for training and testing\n",
    "\n",
    "test_size = 0.20\n",
    "n_test_obs = int(math.ceil(len(df1.index)*test_size)) # this rounds up\n",
    "\n",
    "X = np.delete( df1.values, [0,1,2,3,10] , axis = 1 )\n",
    "y = np.delete( df1.values, [0,1,2,3,4,5,6,7,8,9], axis= 1 )\n",
    "\n",
    "X_train_orig, X_test_orig, y_train, y_test = model_selection.train_test_split( X, y.ravel(), test_size = 0.20, shuffle = False )\n",
    "\n",
    "train_periods = int(len(df1.index)/n_stocks*(1-test_size))  # this rounds down\n",
    "#train_periods = 24\n",
    "\n",
    "# Fix random seed for reproducibility\n",
    "\n",
    "seed = 7\n",
    "np.random.seed(seed)"
   ]
  },
  {
   "cell_type": "code",
   "execution_count": 4,
   "metadata": {},
   "outputs": [
    {
     "name": "stdout",
     "output_type": "stream",
     "text": [
      "Start time:\n",
      " 2018-11-14 21:19:43.380958\n"
     ]
    }
   ],
   "source": [
    "x_mean = []\n",
    "x_std = []\n",
    "\n",
    "for i in range(0,n_factors):\n",
    "    x_mean.append(np.mean(X_train_orig[:,i]))\n",
    "    x_std.append(np.std(X_train_orig[:,i]))\n",
    "    \n",
    "X_train = X_train_orig\n",
    "X_test = X_test_orig    \n",
    "\n",
    "for j in range(0,n_factors):\n",
    "    X_train[:,j] = (X_train_orig[:,j] - x_mean[j])/x_std[j]\n",
    "    X_test[:,j] = (X_test_orig[:,j] - x_mean[j])/x_std[j]\n",
    "    \n",
    "\"\"\"\n",
    "  Setting up predictive model, NN and Linear Regression. Choose the one to use and comment the other one\n",
    "\"\"\"\n",
    "\n",
    "print(\"Start time:\\n\", str(datetime.now()))\n",
    "\n",
    "# Sklearn LinearRegression:\n",
    "\n",
    "#print \"\\nUsing Linear Regression\\n\"\n",
    "#lm = LinearRegression(fit_intercept = False)        # This line defines a linear predictive model\n",
    "\n",
    "# NN using sklearn wrapper\n",
    "\n",
    "#def baseline_model():\n",
    "#\t# create model\n",
    "#\tmodel = Sequential()\n",
    "#\tmodel.add(Dense(6, input_dim=6, kernel_initializer='normal', activation='linear'))\n",
    "#\tmodel.add(Dense(1, kernel_initializer='normal')) # output layer\n",
    "#\t# Compile model\n",
    "#\tmodel.compile(loss='mean_squared_error', optimizer='adam', metrics=['mae', 'mse'])\n",
    "#\treturn model"
   ]
  },
  {
   "cell_type": "code",
   "execution_count": 5,
   "metadata": {},
   "outputs": [
    {
     "name": "stdout",
     "output_type": "stream",
     "text": [
      "\n",
      "Using Neural Networks, hidden neurons=1, l1_reg=0, epochs=40, batch_size=22\n",
      "\n"
     ]
    }
   ],
   "source": [
    "def NN1_model(n_hidden_neurons=10, l1_reg=0.1):    \n",
    "    model = Sequential()\n",
    "    model.add(Dense(6, input_dim=6, kernel_initializer='normal', activation='relu'))\n",
    "    model.add(Dense(n_hidden_neurons, input_dim=6, kernel_initializer='normal',kernel_regularizer=l1(l1_reg), activation='relu'))\n",
    "    model.add(Dense(1, kernel_initializer='normal'))\n",
    "    model.compile(loss='mean_squared_error', optimizer='adam', metrics=['mae', 'mse'])\n",
    "    return model\n",
    "\n",
    "print(\"\\nUsing Neural Networks, hidden neurons=1, l1_reg=0, epochs=40, batch_size=22\\n\")\n",
    "lm = KerasRegressor(build_fn=NN1_model, epochs=40, batch_size=22, verbose=0)  # This line defines a NN predictive model"
   ]
  },
  {
   "cell_type": "code",
   "execution_count": 6,
   "metadata": {},
   "outputs": [
    {
     "name": "stdout",
     "output_type": "stream",
     "text": [
      "Start time:\n",
      " 2018-11-14 21:20:20.417563\n"
     ]
    }
   ],
   "source": [
    "# Normalizing Data:\n",
    "\n",
    "# Using sklearn normalizer\n",
    "\n",
    "#norm = preprocessing.Normalizer().fit(X_train_orig)\n",
    "#X_train = norm.transform(X_train_orig)\n",
    "#X_test = norm.transform(X_test_orig)\n",
    "\n",
    "# Regular normalizer: calculate mean and std from train to normalize test\n",
    "\n",
    "x_mean = []\n",
    "x_std = []\n",
    "\n",
    "for i in range(0,n_factors):\n",
    "    x_mean.append(np.mean(X_train_orig[:,i]))\n",
    "    x_std.append(np.std(X_train_orig[:,i]))\n",
    "    \n",
    "X_train = X_train_orig\n",
    "X_test = X_test_orig    \n",
    "\n",
    "for j in range(0,n_factors):\n",
    "    X_train[:,j] = (X_train_orig[:,j] - x_mean[j])/x_std[j]\n",
    "    X_test[:,j] = (X_test_orig[:,j] - x_mean[j])/x_std[j]\n",
    "    \n",
    "\"\"\"\n",
    "  Setting up predictive model, NN and Linear Regression. Choose the one to use and comment the other one\n",
    "\"\"\"\n",
    "\n",
    "print(\"Start time:\\n\", str(datetime.now()))"
   ]
  },
  {
   "cell_type": "code",
   "execution_count": 8,
   "metadata": {},
   "outputs": [
    {
     "data": {
      "image/png": "[encoded data removed]",
      "text/plain": [
       "<Figure size 432x288 with 1 Axes>"
      ]
     },
     "metadata": {},
     "output_type": "display_data"
    },
    {
     "name": "stdout",
     "output_type": "stream",
     "text": [
      "Factor Correlation Matrix:\n"
     ]
    },
    {
     "data": {
      "image/png": "[encoded data removed]",
      "text/plain": [
       "<Figure size 288x288 with 2 Axes>"
      ]
     },
     "metadata": {},
     "output_type": "display_data"
    }
   ],
   "source": [
    "\"\"\"\n",
    "Goodnes-of-fit Statistics\n",
    "\"\"\"\n",
    "\n",
    "plt.plot(y_train)\n",
    "plt.ylabel('Stock Returns', fontsize = 14)\n",
    "plt.show()\n",
    "\n",
    "factors_ = df1[['CURR_ENTP_VAL', 'PX_TO_BOOK_RATIO', 'CURRENT_EV_TO_T12M_EBITDA', 'PX_TO_SALES_RATIO', 'PE_RATIO', 'Log_CAP']].copy()\n",
    "print(\"Factor Correlation Matrix:\")\n",
    "plt.matshow(factors_.corr())\n",
    "plt.colorbar()\n",
    "plt.show()"
   ]
  },
  {
   "cell_type": "code",
   "execution_count": 9,
   "metadata": {},
   "outputs": [
    {
     "name": "stdout",
     "output_type": "stream",
     "text": [
      "\n",
      "Using Neural Networks, hidden neurons=1, l1_reg=0, epochs=40, batch_size=22\n",
      "\n"
     ]
    }
   ],
   "source": [
    "def NN1_model(n_hidden_neurons=10, l1_reg=0.1):    \n",
    "    model = Sequential()\n",
    "    model.add(Dense(6, input_dim=6, kernel_initializer='normal', activation='relu'))\n",
    "    model.add(Dense(n_hidden_neurons, input_dim=6, kernel_initializer='normal',kernel_regularizer=l1(l1_reg), activation='relu'))\n",
    "    model.add(Dense(1, kernel_initializer='normal'))\n",
    "    model.compile(loss='mean_squared_error', optimizer='adam', metrics=['mae', 'mse'])\n",
    "    return model\n",
    "\n",
    "print(\"\\nUsing Neural Networks, hidden neurons=1, l1_reg=0, epochs=40, batch_size=22\\n\")\n",
    "lm = KerasRegressor(build_fn=NN1_model, epochs=40, batch_size=22, verbose=0)  # This line defines a NN predictive model"
   ]
  },
  {
   "cell_type": "code",
   "execution_count": 12,
   "metadata": {},
   "outputs": [
    {
     "name": "stdout",
     "output_type": "stream",
     "text": [
      "0\n",
      "218\n"
     ]
    },
    {
     "ename": "KeyboardInterrupt",
     "evalue": "",
     "output_type": "error",
     "traceback": [
      "\u001b[0;31m---------------------------------------------------------------------------\u001b[0m",
      "\u001b[0;31mKeyboardInterrupt\u001b[0m                         Traceback (most recent call last)",
      "\u001b[0;32m<ipython-input-12-9760ea8686a4>\u001b[0m in \u001b[0;36m<module>\u001b[0;34m()\u001b[0m\n\u001b[1;32m     22\u001b[0m     \u001b[0;31m#slice_1 = len(X_train[k:k+218])\u001b[0m\u001b[0;34m\u001b[0m\u001b[0;34m\u001b[0m\u001b[0m\n\u001b[1;32m     23\u001b[0m     \u001b[0;31m#print 'slice1:', slice_1\u001b[0m\u001b[0;34m\u001b[0m\u001b[0;34m\u001b[0m\u001b[0m\n\u001b[0;32m---> 24\u001b[0;31m     \u001b[0mpredictions_cs\u001b[0m \u001b[0;34m=\u001b[0m \u001b[0mlm\u001b[0m\u001b[0;34m.\u001b[0m\u001b[0mpredict\u001b[0m\u001b[0;34m(\u001b[0m\u001b[0mX_train\u001b[0m\u001b[0;34m[\u001b[0m\u001b[0;34m(\u001b[0m\u001b[0mk\u001b[0m\u001b[0;34m+\u001b[0m\u001b[0mn_stocks\u001b[0m\u001b[0;34m)\u001b[0m\u001b[0;34m:\u001b[0m\u001b[0;34m(\u001b[0m\u001b[0mk\u001b[0m\u001b[0;34m+\u001b[0m\u001b[0mn_stocks\u001b[0m\u001b[0;34m*\u001b[0m\u001b[0;36m2\u001b[0m\u001b[0;34m)\u001b[0m\u001b[0;34m,\u001b[0m\u001b[0;34m:\u001b[0m\u001b[0;34m]\u001b[0m\u001b[0;34m)\u001b[0m\u001b[0;34m\u001b[0m\u001b[0m\n\u001b[0m\u001b[1;32m     25\u001b[0m     \u001b[0mprediction_set\u001b[0m\u001b[0;34m.\u001b[0m\u001b[0mappend\u001b[0m\u001b[0;34m(\u001b[0m\u001b[0mpredictions_cs\u001b[0m\u001b[0;34m)\u001b[0m\u001b[0;34m\u001b[0m\u001b[0m\n\u001b[1;32m     26\u001b[0m \u001b[0;34m\u001b[0m\u001b[0m\n",
      "\u001b[0;32m~/anaconda3/lib/python3.6/site-packages/keras/wrappers/scikit_learn.py\u001b[0m in \u001b[0;36mpredict\u001b[0;34m(self, x, **kwargs)\u001b[0m\n\u001b[1;32m    321\u001b[0m         \"\"\"\n\u001b[1;32m    322\u001b[0m         \u001b[0mkwargs\u001b[0m \u001b[0;34m=\u001b[0m \u001b[0mself\u001b[0m\u001b[0;34m.\u001b[0m\u001b[0mfilter_sk_params\u001b[0m\u001b[0;34m(\u001b[0m\u001b[0mSequential\u001b[0m\u001b[0;34m.\u001b[0m\u001b[0mpredict\u001b[0m\u001b[0;34m,\u001b[0m \u001b[0mkwargs\u001b[0m\u001b[0;34m)\u001b[0m\u001b[0;34m\u001b[0m\u001b[0m\n\u001b[0;32m--> 323\u001b[0;31m         \u001b[0;32mreturn\u001b[0m \u001b[0mnp\u001b[0m\u001b[0;34m.\u001b[0m\u001b[0msqueeze\u001b[0m\u001b[0;34m(\u001b[0m\u001b[0mself\u001b[0m\u001b[0;34m.\u001b[0m\u001b[0mmodel\u001b[0m\u001b[0;34m.\u001b[0m\u001b[0mpredict\u001b[0m\u001b[0;34m(\u001b[0m\u001b[0mx\u001b[0m\u001b[0;34m,\u001b[0m \u001b[0;34m**\u001b[0m\u001b[0mkwargs\u001b[0m\u001b[0;34m)\u001b[0m\u001b[0;34m)\u001b[0m\u001b[0;34m\u001b[0m\u001b[0m\n\u001b[0m\u001b[1;32m    324\u001b[0m \u001b[0;34m\u001b[0m\u001b[0m\n\u001b[1;32m    325\u001b[0m     \u001b[0;32mdef\u001b[0m \u001b[0mscore\u001b[0m\u001b[0;34m(\u001b[0m\u001b[0mself\u001b[0m\u001b[0;34m,\u001b[0m \u001b[0mx\u001b[0m\u001b[0;34m,\u001b[0m \u001b[0my\u001b[0m\u001b[0;34m,\u001b[0m \u001b[0;34m**\u001b[0m\u001b[0mkwargs\u001b[0m\u001b[0;34m)\u001b[0m\u001b[0;34m:\u001b[0m\u001b[0;34m\u001b[0m\u001b[0m\n",
      "\u001b[0;32m~/anaconda3/lib/python3.6/site-packages/keras/engine/training.py\u001b[0m in \u001b[0;36mpredict\u001b[0;34m(self, x, batch_size, verbose, steps)\u001b[0m\n\u001b[1;32m   1167\u001b[0m                                             \u001b[0mbatch_size\u001b[0m\u001b[0;34m=\u001b[0m\u001b[0mbatch_size\u001b[0m\u001b[0;34m,\u001b[0m\u001b[0;34m\u001b[0m\u001b[0m\n\u001b[1;32m   1168\u001b[0m                                             \u001b[0mverbose\u001b[0m\u001b[0;34m=\u001b[0m\u001b[0mverbose\u001b[0m\u001b[0;34m,\u001b[0m\u001b[0;34m\u001b[0m\u001b[0m\n\u001b[0;32m-> 1169\u001b[0;31m                                             steps=steps)\n\u001b[0m\u001b[1;32m   1170\u001b[0m \u001b[0;34m\u001b[0m\u001b[0m\n\u001b[1;32m   1171\u001b[0m     def train_on_batch(self, x, y,\n",
      "\u001b[0;32m~/anaconda3/lib/python3.6/site-packages/keras/engine/training_arrays.py\u001b[0m in \u001b[0;36mpredict_loop\u001b[0;34m(model, f, ins, batch_size, verbose, steps)\u001b[0m\n\u001b[1;32m    292\u001b[0m                 \u001b[0mins_batch\u001b[0m\u001b[0;34m[\u001b[0m\u001b[0mi\u001b[0m\u001b[0;34m]\u001b[0m \u001b[0;34m=\u001b[0m \u001b[0mins_batch\u001b[0m\u001b[0;34m[\u001b[0m\u001b[0mi\u001b[0m\u001b[0;34m]\u001b[0m\u001b[0;34m.\u001b[0m\u001b[0mtoarray\u001b[0m\u001b[0;34m(\u001b[0m\u001b[0;34m)\u001b[0m\u001b[0;34m\u001b[0m\u001b[0m\n\u001b[1;32m    293\u001b[0m \u001b[0;34m\u001b[0m\u001b[0m\n\u001b[0;32m--> 294\u001b[0;31m             \u001b[0mbatch_outs\u001b[0m \u001b[0;34m=\u001b[0m \u001b[0mf\u001b[0m\u001b[0;34m(\u001b[0m\u001b[0mins_batch\u001b[0m\u001b[0;34m)\u001b[0m\u001b[0;34m\u001b[0m\u001b[0m\n\u001b[0m\u001b[1;32m    295\u001b[0m             \u001b[0mbatch_outs\u001b[0m \u001b[0;34m=\u001b[0m \u001b[0mto_list\u001b[0m\u001b[0;34m(\u001b[0m\u001b[0mbatch_outs\u001b[0m\u001b[0;34m)\u001b[0m\u001b[0;34m\u001b[0m\u001b[0m\n\u001b[1;32m    296\u001b[0m             \u001b[0;32mif\u001b[0m \u001b[0mbatch_index\u001b[0m \u001b[0;34m==\u001b[0m \u001b[0;36m0\u001b[0m\u001b[0;34m:\u001b[0m\u001b[0;34m\u001b[0m\u001b[0m\n",
      "\u001b[0;32m~/anaconda3/lib/python3.6/site-packages/keras/backend/tensorflow_backend.py\u001b[0m in \u001b[0;36m__call__\u001b[0;34m(self, inputs)\u001b[0m\n\u001b[1;32m   2713\u001b[0m                 \u001b[0;32mreturn\u001b[0m \u001b[0mself\u001b[0m\u001b[0;34m.\u001b[0m\u001b[0m_legacy_call\u001b[0m\u001b[0;34m(\u001b[0m\u001b[0minputs\u001b[0m\u001b[0;34m)\u001b[0m\u001b[0;34m\u001b[0m\u001b[0m\n\u001b[1;32m   2714\u001b[0m \u001b[0;34m\u001b[0m\u001b[0m\n\u001b[0;32m-> 2715\u001b[0;31m             \u001b[0;32mreturn\u001b[0m \u001b[0mself\u001b[0m\u001b[0;34m.\u001b[0m\u001b[0m_call\u001b[0m\u001b[0;34m(\u001b[0m\u001b[0minputs\u001b[0m\u001b[0;34m)\u001b[0m\u001b[0;34m\u001b[0m\u001b[0m\n\u001b[0m\u001b[1;32m   2716\u001b[0m         \u001b[0;32melse\u001b[0m\u001b[0;34m:\u001b[0m\u001b[0;34m\u001b[0m\u001b[0m\n\u001b[1;32m   2717\u001b[0m             \u001b[0;32mif\u001b[0m \u001b[0mpy_any\u001b[0m\u001b[0;34m(\u001b[0m\u001b[0mis_tensor\u001b[0m\u001b[0;34m(\u001b[0m\u001b[0mx\u001b[0m\u001b[0;34m)\u001b[0m \u001b[0;32mfor\u001b[0m \u001b[0mx\u001b[0m \u001b[0;32min\u001b[0m \u001b[0minputs\u001b[0m\u001b[0;34m)\u001b[0m\u001b[0;34m:\u001b[0m\u001b[0;34m\u001b[0m\u001b[0m\n",
      "\u001b[0;32m~/anaconda3/lib/python3.6/site-packages/keras/backend/tensorflow_backend.py\u001b[0m in \u001b[0;36m_call\u001b[0;34m(self, inputs)\u001b[0m\n\u001b[1;32m   2669\u001b[0m                                 \u001b[0mfeed_symbols\u001b[0m\u001b[0;34m,\u001b[0m\u001b[0;34m\u001b[0m\u001b[0m\n\u001b[1;32m   2670\u001b[0m                                 \u001b[0msymbol_vals\u001b[0m\u001b[0;34m,\u001b[0m\u001b[0;34m\u001b[0m\u001b[0m\n\u001b[0;32m-> 2671\u001b[0;31m                                 session)\n\u001b[0m\u001b[1;32m   2672\u001b[0m         \u001b[0;32mif\u001b[0m \u001b[0mself\u001b[0m\u001b[0;34m.\u001b[0m\u001b[0mrun_metadata\u001b[0m\u001b[0;34m:\u001b[0m\u001b[0;34m\u001b[0m\u001b[0m\n\u001b[1;32m   2673\u001b[0m             \u001b[0mfetched\u001b[0m \u001b[0;34m=\u001b[0m \u001b[0mself\u001b[0m\u001b[0;34m.\u001b[0m\u001b[0m_callable_fn\u001b[0m\u001b[0;34m(\u001b[0m\u001b[0;34m*\u001b[0m\u001b[0marray_vals\u001b[0m\u001b[0;34m,\u001b[0m \u001b[0mrun_metadata\u001b[0m\u001b[0;34m=\u001b[0m\u001b[0mself\u001b[0m\u001b[0;34m.\u001b[0m\u001b[0mrun_metadata\u001b[0m\u001b[0;34m)\u001b[0m\u001b[0;34m\u001b[0m\u001b[0m\n",
      "\u001b[0;32m~/anaconda3/lib/python3.6/site-packages/keras/backend/tensorflow_backend.py\u001b[0m in \u001b[0;36m_make_callable\u001b[0;34m(self, feed_arrays, feed_symbols, symbol_vals, session)\u001b[0m\n\u001b[1;32m   2621\u001b[0m             \u001b[0mcallable_opts\u001b[0m\u001b[0;34m.\u001b[0m\u001b[0mrun_options\u001b[0m\u001b[0;34m.\u001b[0m\u001b[0mCopyFrom\u001b[0m\u001b[0;34m(\u001b[0m\u001b[0mself\u001b[0m\u001b[0;34m.\u001b[0m\u001b[0mrun_options\u001b[0m\u001b[0;34m)\u001b[0m\u001b[0;34m\u001b[0m\u001b[0m\n\u001b[1;32m   2622\u001b[0m         \u001b[0;31m# Create callable.\u001b[0m\u001b[0;34m\u001b[0m\u001b[0;34m\u001b[0m\u001b[0m\n\u001b[0;32m-> 2623\u001b[0;31m         \u001b[0mcallable_fn\u001b[0m \u001b[0;34m=\u001b[0m \u001b[0msession\u001b[0m\u001b[0;34m.\u001b[0m\u001b[0m_make_callable_from_options\u001b[0m\u001b[0;34m(\u001b[0m\u001b[0mcallable_opts\u001b[0m\u001b[0;34m)\u001b[0m\u001b[0;34m\u001b[0m\u001b[0m\n\u001b[0m\u001b[1;32m   2624\u001b[0m         \u001b[0;31m# Cache parameters corresponding to the generated callable, so that\u001b[0m\u001b[0;34m\u001b[0m\u001b[0;34m\u001b[0m\u001b[0m\n\u001b[1;32m   2625\u001b[0m         \u001b[0;31m# we can detect future mismatches and refresh the callable.\u001b[0m\u001b[0;34m\u001b[0m\u001b[0;34m\u001b[0m\u001b[0m\n",
      "\u001b[0;32m~/anaconda3/lib/python3.6/site-packages/tensorflow/python/client/session.py\u001b[0m in \u001b[0;36m_make_callable_from_options\u001b[0;34m(self, callable_options)\u001b[0m\n\u001b[1;32m   1468\u001b[0m       \u001b[0mA\u001b[0m \u001b[0mhandle\u001b[0m \u001b[0mto\u001b[0m \u001b[0mthe\u001b[0m \u001b[0mnew\u001b[0m \u001b[0mcallable\u001b[0m\u001b[0;34m.\u001b[0m\u001b[0;34m\u001b[0m\u001b[0m\n\u001b[1;32m   1469\u001b[0m     \"\"\"\n\u001b[0;32m-> 1470\u001b[0;31m     \u001b[0mself\u001b[0m\u001b[0;34m.\u001b[0m\u001b[0m_extend_graph\u001b[0m\u001b[0;34m(\u001b[0m\u001b[0;34m)\u001b[0m\u001b[0;34m\u001b[0m\u001b[0m\n\u001b[0m\u001b[1;32m   1471\u001b[0m     \u001b[0;32mreturn\u001b[0m \u001b[0mBaseSession\u001b[0m\u001b[0;34m.\u001b[0m\u001b[0m_Callable\u001b[0m\u001b[0;34m(\u001b[0m\u001b[0mself\u001b[0m\u001b[0;34m,\u001b[0m \u001b[0mcallable_options\u001b[0m\u001b[0;34m)\u001b[0m\u001b[0;34m\u001b[0m\u001b[0m\n\u001b[1;32m   1472\u001b[0m \u001b[0;34m\u001b[0m\u001b[0m\n",
      "\u001b[0;32m~/anaconda3/lib/python3.6/site-packages/tensorflow/python/client/session.py\u001b[0m in \u001b[0;36m_extend_graph\u001b[0;34m(self)\u001b[0m\n\u001b[1;32m   1350\u001b[0m   \u001b[0;32mdef\u001b[0m \u001b[0m_extend_graph\u001b[0m\u001b[0;34m(\u001b[0m\u001b[0mself\u001b[0m\u001b[0;34m)\u001b[0m\u001b[0;34m:\u001b[0m\u001b[0;34m\u001b[0m\u001b[0m\n\u001b[1;32m   1351\u001b[0m     \u001b[0;32mwith\u001b[0m \u001b[0mself\u001b[0m\u001b[0;34m.\u001b[0m\u001b[0m_graph\u001b[0m\u001b[0;34m.\u001b[0m\u001b[0m_session_run_lock\u001b[0m\u001b[0;34m(\u001b[0m\u001b[0;34m)\u001b[0m\u001b[0;34m:\u001b[0m  \u001b[0;31m# pylint: disable=protected-access\u001b[0m\u001b[0;34m\u001b[0m\u001b[0m\n\u001b[0;32m-> 1352\u001b[0;31m       \u001b[0mtf_session\u001b[0m\u001b[0;34m.\u001b[0m\u001b[0mExtendSession\u001b[0m\u001b[0;34m(\u001b[0m\u001b[0mself\u001b[0m\u001b[0;34m.\u001b[0m\u001b[0m_session\u001b[0m\u001b[0;34m)\u001b[0m\u001b[0;34m\u001b[0m\u001b[0m\n\u001b[0m\u001b[1;32m   1353\u001b[0m \u001b[0;34m\u001b[0m\u001b[0m\n\u001b[1;32m   1354\u001b[0m   \u001b[0;31m# The threshold to run garbage collection to delete dead tensors.\u001b[0m\u001b[0;34m\u001b[0m\u001b[0;34m\u001b[0m\u001b[0m\n",
      "\u001b[0;31mKeyboardInterrupt\u001b[0m: "
     ]
    }
   ],
   "source": [
    "\"\"\"\n",
    " Cross-sectional regression over time\n",
    "\"\"\"\n",
    "\n",
    "mse_cs = []\n",
    "mse_insample = []\n",
    "mae_cs = []\n",
    "mae_insample = []\n",
    "predictions_cs = []\n",
    "predictions_insample = []\n",
    "predictions_insample_set = []\n",
    "coefficients = []\n",
    "r2 = [] \n",
    "slice_ = []\n",
    "prediction_set = []\n",
    "p_values = []\n",
    "\n",
    "for k in range(0,n_stocks*train_periods,n_stocks):\n",
    "    print(k)\n",
    "    lm.fit(X_train[k:k+n_stocks,:],y_train[k:(k+n_stocks)])\n",
    "    \n",
    "    #slice_1 = len(X_train[k:k+218])\n",
    "    #print 'slice1:', slice_1\n",
    "    predictions_cs = lm.predict(X_train[(k+n_stocks):(k+n_stocks*2),:])  \n",
    "    prediction_set.append(predictions_cs)\n",
    "   \n",
    "    ols_results = sm.OLS(y_train[k:(k+n_stocks)], X_train[k:k+n_stocks,:]).fit()\n",
    "    p_values.append(ols_results.pvalues[0:5])\n",
    "\n",
    "    #slice_2 = len(X_train[k+218:k+436])\n",
    "    #print 'slice 2:', slice_2\n",
    "    predictions_insample = lm.predict(X_train[k:(k+n_stocks),:])\n",
    "    predictions_insample_set.append(predictions_insample) \n",
    "    \n",
    "    mse_cs.append(mean_squared_error(y_train[(k+n_stocks):(k+n_stocks*2)],predictions_cs))\n",
    "    mse_insample.append(mean_squared_error(y_train[k:(k+n_stocks)],predictions_insample))\n",
    "    \n",
    "    mae_cs.append(mean_absolute_error(y_train[(k+n_stocks):(k+n_stocks*2)],predictions_cs))\n",
    "    mae_insample.append(mean_absolute_error(y_train[k:(k+n_stocks)],predictions_insample))\n",
    "    #coefficients.append(lm.coef_) # comment this if using NN \n"
   ]
  },
  {
   "cell_type": "code",
   "execution_count": 15,
   "metadata": {},
   "outputs": [
    {
     "data": {
      "text/plain": [
       "(22497, 6)"
      ]
     },
     "execution_count": 15,
     "metadata": {},
     "output_type": "execute_result"
    }
   ],
   "source": [
    "k=0\n",
    "np.shape(X_train)"
   ]
  },
  {
   "cell_type": "code",
   "execution_count": 17,
   "metadata": {},
   "outputs": [
    {
     "data": {
      "text/plain": [
       "6"
      ]
     },
     "execution_count": 17,
     "metadata": {},
     "output_type": "execute_result"
    }
   ],
   "source": [
    "np.shape(X_train)[1]"
   ]
  },
  {
   "cell_type": "code",
   "execution_count": 47,
   "metadata": {},
   "outputs": [],
   "source": [
    "# perturbations\n",
    "eps=1e-3\n",
    "dys = []\n",
    "dys_sd = []\n",
    "y=lm.predict(X_train[k:(k+n_stocks),:])\n",
    "for i in range(np.shape(X_train)[1]):\n",
    "    X_train_prime= X_train[k:(k+n_stocks),:]\n",
    "    X_train_prime[:,i]+=eps\n",
    "    y_prime = lm.predict(X_train_prime)\n",
    "    dys.append(np.mean((y_prime-y)/y))\n",
    "    dys_sd.append(np.std((y_prime-y)/y))\n",
    "        "
   ]
  },
  {
   "cell_type": "code",
   "execution_count": 50,
   "metadata": {},
   "outputs": [
    {
     "data": {
      "text/plain": [
       "array([-0.97534394, -0.723461  , -1.3596709 , -0.5005999 ,  0.4779428 ,\n",
       "        0.9817639 ], dtype=float32)"
      ]
     },
     "execution_count": 50,
     "metadata": {},
     "output_type": "execute_result"
    }
   ],
   "source": [
    "np.array(dys)/1e-7"
   ]
  },
  {
   "cell_type": "code",
   "execution_count": 35,
   "metadata": {},
   "outputs": [],
   "source": [
    "factors= ['EV', 'P/B', 'EV/T12M EBITDA', 'P/S' , 'P/E','Log CAP']"
   ]
  },
  {
   "cell_type": "code",
   "execution_count": 56,
   "metadata": {},
   "outputs": [
    {
     "data": {
      "image/png": "[encoded data removed]",
      "text/plain": [
       "<Figure size 432x288 with 1 Axes>"
      ]
     },
     "metadata": {},
     "output_type": "display_data"
    }
   ],
   "source": [
    "plt.plot(np.array(dys)/1e-7, color = 'black', label = 'Sensitivities')\n",
    "plt.plot((np.array(dys)+ np.array(dys_sd))/1e-7, color = 'black', linestyle='--')\n",
    "plt.plot((np.array(dys)- np.array(dys_sd))/1e-7, color = 'black', linestyle='--')\n",
    "plt.xticks(range(6), factors, rotation='vertical') \n",
    "#plt.xticks(factors)\n",
    "#plt.plot(mse_insample, color = 'black', label = \"MSE In-Sample\")\n",
    "plt.legend()\n",
    "plt.show()"
   ]
  },
  {
   "cell_type": "code",
   "execution_count": null,
   "metadata": {},
   "outputs": [],
   "source": [
    "#copy variables\n",
    "mse_cs_NN_10N_l1_01 =  mse_cs\n",
    "mse_insample_NN_10N_l1_01 =  mse_insample\n",
    "mae_cs_NN_10N_l1_01 =  mae_cs\n",
    "mae_insample_NN_10N_l1_01 = mae_insample"
   ]
  },
  {
   "cell_type": "code",
   "execution_count": null,
   "metadata": {},
   "outputs": [],
   "source": [
    "\n",
    "#print \"Coefficients for first period:\", coefficients[1] # comment this if using NN\n",
    "#print \"\\nP-values for first period:\\n\", p_values[1]\n",
    "print(\"\\nMSE in-sample:\", np.mean(mse_insample))\n",
    "print(\"MSE out-of-sample:\", np.mean(mse_cs))\n",
    "plt.plot(mse_cs, color = 'red', label = 'MSE out-of-sample')\n",
    "plt.plot(mse_insample, color = 'black', label = \"MSE In-Sample\")\n",
    "plt.legend()\n",
    "plt.show()\n",
    "\n",
    "print(\"\\nMAE in-sample:\", np.mean(mae_insample))\n",
    "print(\"MAE out-of-sample:\", np.mean(mae_cs))\n",
    "plt.plot(mae_cs, color = 'red', label = 'MAE out-of-sample')\n",
    "plt.plot(mae_insample, color = 'black', label = \"MAE In-Sample\")\n",
    "plt.legend()\n",
    "plt.show()"
   ]
  },
  {
   "cell_type": "code",
   "execution_count": null,
   "metadata": {},
   "outputs": [],
   "source": [
    "prediction_list = [item for sublist in prediction_set for item in sublist]      # \"flatten\" a list of list to a single list\n",
    "y_true = y[218:(len(df1.index)-n_test_obs),]\n",
    "y_true_list = [item for sublist in y_true for item in sublist]\n",
    "residuals = np.subtract(y_true_list , prediction_list)\n",
    "plt.hist(residuals, bins = 50) \n",
    "plt.ylabel('Residuals Histogram', fontsize = 12)\n",
    "plt.show()\n",
    "\n",
    "residuals_monthly = []\n",
    "for p in range(0,n_stocks*train_periods,n_stocks):\n",
    "    residuals_monthly.append(residuals[p:(p+n_stocks)])\n",
    "    \n",
    "#ljung_box_test = tds.acorr_ljungbox(residuals_monthly[:], lags=None, boxpierce=True)\n",
    "\n",
    "#copy variables\n",
    "residuals_NN_10N_l1_01 = residuals\n",
    "residuals_monthly_NN_10N_l1_01 = residuals_monthly"
   ]
  },
  {
   "cell_type": "code",
   "execution_count": null,
   "metadata": {},
   "outputs": [],
   "source": [
    "\"\"\"\n",
    " Information Ratio Calculation\n",
    "\"\"\"    \n",
    "\n",
    "info_ratio = []\n",
    "info_ratio_is = []\n",
    "info_ratio_wn = []\n",
    "\n",
    "for m in [10,15,20,25]:\n",
    "    excess_returns = []\n",
    "    excess_returns_is = []\n",
    "    excess_returns_wn = []\n",
    "    excess_returns_std = []\n",
    "    excess_returns_std_is = []\n",
    "    excess_returns_std_wn = []\n",
    "    idx = []\n",
    "    idx_is = []\n",
    "    for u in range(0,train_periods,1):\n",
    "        idx.append(np.argsort(-prediction_set[u])[:m])\n",
    "        pred_port = y[n_stocks*u+idx[u]]\n",
    "        pred_port_ret = np.mean(pred_port)\n",
    "        excess_returns.append((pred_port_ret - bench['Return'][u]))\n",
    "        \n",
    "        idx_is.append(np.argsort(-predictions_insample_set[u])[:m])\n",
    "        pred_port_is = y[n_stocks*u+idx_is[u]]\n",
    "        pred_port_ret_is = np.mean(pred_port_is)\n",
    "        excess_returns_is.append((pred_port_ret_is - bench['Return'][u]))\n",
    "        \n",
    "        #White Noise IR\n",
    "        wn = np.asarray(random.sample(range(1, n_stocks),m))\n",
    "        pred_port_wn = y[n_stocks*u+wn]\n",
    "        pred_port_ret_wn = np.mean(pred_port_wn)\n",
    "        excess_returns_wn.append((pred_port_ret_wn - bench['Return'][u]))\n",
    "        \n",
    "    excess_returns_std.append(np.std(excess_returns))\n",
    "    info_ratio.append(np.mean(excess_returns)/excess_returns_std)\n",
    "    \n",
    "    excess_returns_std_is.append(np.std(excess_returns_is))\n",
    "    info_ratio_is.append(np.mean(excess_returns_is)/excess_returns_std_is)\n",
    "    \n",
    "    excess_returns_std_wn.append(np.std(excess_returns_wn))\n",
    "    info_ratio_wn.append(np.mean(excess_returns_wn)/excess_returns_std_wn)\n",
    "  "
   ]
  },
  {
   "cell_type": "code",
   "execution_count": null,
   "metadata": {},
   "outputs": [],
   "source": [
    "      \n",
    "print \"\\nInformation Ratios:\", info_ratio\n",
    "print \"\\nInformation Ratios In-Sample:\", info_ratio_is\n",
    "print \"\\nInformation Ratios of White Noise:\", info_ratio_wn\n",
    "\n",
    "# Plotting Histograms of IR:\n",
    "\n",
    "ir = pd.DataFrame(info_ratio, columns=['IR'])\n",
    "ir['# of stocks'] = [10,15,20,25] \n",
    "plt.bar(ir['# of stocks'],ir['IR'], width = 4, tick_label=[10,15,20,25])\n",
    "for a,b in zip(ir['# of stocks'], ir['IR']):\n",
    "    plt.text(a, b, str(b)[0:6],horizontalalignment='center', fontsize=12, fontweight='bold' )\n",
    "plt.xlabel('Number of Stocks', fontsize=12)\n",
    "plt.ylabel('Information Ratio (0ut-Of-Sample)', fontsize=14)\n",
    "axes = plt.gca()\n",
    "axes.set_ylim([0,max(ir['IR'])+.1])\n",
    "plt.show()\n",
    "\n",
    "ir_is = pd.DataFrame(info_ratio_is, columns=['IR_is'])\n",
    "ir_is['# of stocks'] = [10,15,20,25] \n",
    "plt.bar(ir_is['# of stocks'],ir_is['IR_is'], width = 4, tick_label=[10,15,20,25])\n",
    "for a,b in zip(ir_is['# of stocks'], ir_is['IR_is']):\n",
    "    plt.text(a, b, str(b)[0:6],horizontalalignment='center', fontsize=12, fontweight='bold' )\n",
    "plt.xlabel('Number of Stocks', fontsize=12)\n",
    "plt.ylabel('Information Ratio (In-Sample)', fontsize=14)\n",
    "axes_is = plt.gca()\n",
    "axes_is.set_ylim([0,max(ir_is['IR_is'])+.1])\n",
    "plt.show()\n",
    "\n",
    "ir_wn = pd.DataFrame(info_ratio_wn, columns=['IR_wn'])\n",
    "ir_wn['# of stocks'] = [10,15,20,25] \n",
    "plt.bar(ir_wn['# of stocks'],ir_wn['IR_wn'], width = 4, tick_label=[10,15,20,25])\n",
    "for a,b in zip(ir_wn['# of stocks'], ir_wn['IR_wn']):\n",
    "    plt.text(a, b, str(b)[0:6],horizontalalignment='center', fontsize=12, fontweight='bold' )\n",
    "plt.xlabel('Number of Stocks', fontsize=12)\n",
    "plt.ylabel('Information Ratio (White Noise)', fontsize=14)\n",
    "axes_wn = plt.gca()\n",
    "axes_wn.set_ylim([0,0.30])\n",
    "plt.show()\n",
    "\n",
    "print \"End time:\\n\",  str(datetime.now())\n",
    "\n",
    "# Graphs"
   ]
  },
  {
   "cell_type": "code",
   "execution_count": null,
   "metadata": {},
   "outputs": [],
   "source": [
    "mses_insample = [0.006211, 0.00464734, 0.0041991, 0.00413317, 0.0040116, 0.0039059 ]\n",
    "mses_insample_y_axis = [\"Zero\",\"1\",\"10\",\"25\",\"50\",\"100\"]\n",
    "plt.plot(mses_insample_y_axis, mses_insample, color = 'red')\n",
    "plt.xlabel('Number of Neurons', fontsize=12)\n",
    "plt.ylabel('MSE In-Sample', fontsize=12)\n",
    "plt.legend()\n",
    "plt.show()"
   ]
  },
  {
   "cell_type": "code",
   "execution_count": null,
   "metadata": {},
   "outputs": [],
   "source": [
    "plt.plot(mse_insample_NN_100N, color = 'purple', label='100 Neurons')\n",
    "plt.plot(mse_insample_NN_50N, color = 'orange', label='50 Neurons')\n",
    "plt.plot(mse_insample_NN_25N, color = 'yellow', label='25 Neurons')\n",
    "plt.plot(mse_insample_NN_10N, color = 'red', label='10 Neurons')\n",
    "plt.plot(mse_insample_regression, color = 'black', label='Linear Model')\n",
    "plt.xlabel('Periods', fontsize=12)\n",
    "plt.ylabel('MSE In-Sample', fontsize=12)\n",
    "plt.legend()\n",
    "plt.show()"
   ]
  },
  {
   "cell_type": "code",
   "execution_count": null,
   "metadata": {},
   "outputs": [],
   "source": [
    "plt.plot(mse_cs_NN_100N, color = 'purple', label='100 Neurons')\n",
    "plt.plot(mse_cs_NN_50N, color = 'orange', label='50 Neurons')\n",
    "plt.plot(mse_cs_NN_25N, color = 'yellow', label='25 Neurons')\n",
    "plt.plot(mse_cs_NN_10N, color = 'red', label='10 Neurons')\n",
    "plt.plot(mse_cs_regression, color = 'black', label='Linear Model')\n",
    "plt.xlabel('Periods', fontsize=12)\n",
    "plt.ylabel('MSE Out-Of-Sample', fontsize=12)\n",
    "plt.legend()\n",
    "plt.show()"
   ]
  },
  {
   "cell_type": "code",
   "execution_count": null,
   "metadata": {},
   "outputs": [],
   "source": [
    "plt.plot(mse_insample_NN_100N, color = 'purple', label='100 Neurons')\n",
    "plt.plot(mse_insample_NN_50N, color = 'orange', label='50 Neurons')\n",
    "plt.plot(mse_insample_NN_25N, color = 'yellow', label='25 Neurons')\n",
    "plt.plot(mse_insample_NN_10N, color = 'red', label='10 Neurons')\n",
    "plt.plot(mse_insample_regression, color = 'black', label='Linear Model')\n",
    "plt.xlabel('Periods', fontsize=12)\n",
    "plt.ylabel('MSE In-Sample', fontsize=12)\n",
    "plt.legend()\n",
    "plt.show()"
   ]
  },
  {
   "cell_type": "code",
   "execution_count": null,
   "metadata": {},
   "outputs": [],
   "source": [
    "ir_graph = pd.DataFrame([0.5914, 0.9819, 1.0498, 1.0299, 1.0933], columns=['IR'])\n",
    "ir_graph['# of neurons'] = [0,10,20,30,40] \n",
    "plt.bar(ir_graph['# of neurons'],ir_graph['IR'], width = 7, tick_label=[0,10,25,50,100])\n",
    "for a,b in zip(ir_graph['# of neurons'], ir_graph['IR']):\n",
    "    plt.text(a, b, str(b)[0:6],horizontalalignment='center', fontsize=12, fontweight='bold' )\n",
    "plt.xlabel('Number of Neurons', fontsize=12)\n",
    "plt.ylabel('Information Ratio (0ut-Of-Sample)', fontsize=14)\n",
    "axes = plt.gca()\n",
    "axes.set_ylim([0,max(ir_graph['IR'])+.1])\n",
    "plt.show()"
   ]
  },
  {
   "cell_type": "code",
   "execution_count": null,
   "metadata": {},
   "outputs": [],
   "source": [
    "ir_graph_is = pd.DataFrame([0.6067, 1.0134, 1.0885, 1.1033, 1.1285], columns=['IR'])\n",
    "ir_graph_is['# of neurons'] = [0,10,20,30,40] \n",
    "plt.bar(ir_graph_is['# of neurons'],ir_graph_is['IR'], width = 7, tick_label=[0,10,25,50,100])\n",
    "for a,b in zip(ir_graph_is['# of neurons'], ir_graph_is['IR']):\n",
    "    plt.text(a, b, str(b)[0:6],horizontalalignment='center', fontsize=12, fontweight='bold' )\n",
    "plt.xlabel('Number of Neurons', fontsize=12)\n",
    "plt.ylabel('Information Ratio (In-Sample)', fontsize=14)\n",
    "axes = plt.gca()\n",
    "axes.set_ylim([0,max(ir_graph_is['IR'])+.1])\n",
    "plt.show()"
   ]
  }
 ],
 "metadata": {
  "kernelspec": {
   "display_name": "Python 3",
   "language": "python",
   "name": "python3"
  },
  "language_info": {
   "codemirror_mode": {
    "name": "ipython",
    "version": 3
   },
   "file_extension": ".py",
   "mimetype": "text/x-python",
   "name": "python",
   "nbconvert_exporter": "python",
   "pygments_lexer": "ipython3",
   "version": "3.6.5"
  }
 },
 "nbformat": 4,
 "nbformat_minor": 2
}
